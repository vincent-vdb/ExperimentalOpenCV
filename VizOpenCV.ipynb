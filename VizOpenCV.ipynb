{
 "cells": [
  {
   "cell_type": "code",
   "execution_count": null,
   "metadata": {},
   "outputs": [],
   "source": [
    "import cv2 as cv\n",
    "import numpy as np\n",
    "import matplotlib.pyplot as plt"
   ]
  },
  {
   "cell_type": "code",
   "execution_count": null,
   "metadata": {},
   "outputs": [],
   "source": [
    "imName = (\"test1.jpg\")\n",
    "\n",
    "# Read the image\n",
    "img = cv.imread(imName, cv.IMREAD_UNCHANGED)\n",
    "RGB_img = cv.cvtColor(img, cv.COLOR_BGR2RGB)\n",
    "gray = cv.imread(imName, 0)\n",
    "hsv = cv.cvtColor(img, cv.COLOR_BGR2HSV)\n",
    "\n",
    "plt.imshow(RGB_img)\n",
    "plt.plot()"
   ]
  },
  {
   "cell_type": "code",
   "execution_count": null,
   "metadata": {},
   "outputs": [],
   "source": [
    "# Canny edges\n",
    "canny = cv.Canny(img,100,200)\n",
    "plt.imshow(canny, cmap='gray')\n",
    "plt.plot()"
   ]
  },
  {
   "cell_type": "code",
   "execution_count": null,
   "metadata": {},
   "outputs": [],
   "source": [
    "# HSV space segmentation\n",
    "silverMin = np.array([80, 0, 0],np.uint8)\n",
    "silverMax = np.array([150, 100, 255],np.uint8)\n",
    "\n",
    "threshImg = cv.inRange(hsv, silverMin, silverMax)\n",
    "\n",
    "res = cv.bitwise_and(RGB_img, RGB_img, mask=threshImg)\n",
    "\n",
    "res = cv.cvtColor(res, cv.COLOR_BGR2GRAY)\n",
    "plt.imshow(res, cmap='gray')\n",
    "plt.plot()"
   ]
  },
  {
   "cell_type": "code",
   "execution_count": null,
   "metadata": {},
   "outputs": [],
   "source": [
    "# Dilate the tresholded image\n",
    "kernel = np.ones((4, 4), np.uint8)\n",
    "#closing = cv.morphologyEx(blur, cv.MORPH_CLOSE, kernel, iterations=2)\n",
    "dilated = cv.dilate(threshImg,kernel,iterations = 2)\n",
    "\n",
    "plt.imshow(dilated, cmap='gray')\n",
    "plt.plot()"
   ]
  },
  {
   "cell_type": "code",
   "execution_count": null,
   "metadata": {},
   "outputs": [],
   "source": [
    "# Test canny AND HSV segmentation\n",
    "cannyAndColor = cv.bitwise_and(canny, canny, mask=dilated)\n",
    "plt.imshow(cannyAndColor, cmap='gray')\n",
    "plt.plot()"
   ]
  },
  {
   "cell_type": "code",
   "execution_count": null,
   "metadata": {},
   "outputs": [],
   "source": [
    "# Blur it\n",
    "blur = cv.GaussianBlur(res, (11, 11), 0)\n",
    "#or median blur?\n",
    "\n",
    "plt.imshow(blur, cmap='gray')\n",
    "plt.plot()"
   ]
  },
  {
   "cell_type": "code",
   "execution_count": null,
   "metadata": {},
   "outputs": [],
   "source": [
    "# Make eroding\n",
    "kernel = np.ones((4, 4), np.uint8)\n",
    "#closing = cv.morphologyEx(blur, cv.MORPH_CLOSE, kernel, iterations=2)\n",
    "eroded = cv.erode(blur,kernel,iterations = 1)\n",
    "opened = cv.morphologyEx(blur, cv.MORPH_OPEN, kernel, iterations=2)\n",
    "plt.imshow(eroded, cmap='gray')\n",
    "plt.plot()"
   ]
  },
  {
   "cell_type": "code",
   "execution_count": null,
   "metadata": {},
   "outputs": [],
   "source": [
    "# Threshold it\n",
    "thresh = cv.adaptiveThreshold(gray_blur, 255, cv.ADAPTIVE_THRESH_GAUSSIAN_C,\n",
    "cv.THRESH_BINARY_INV, 11, 1)"
   ]
  },
  {
   "cell_type": "code",
   "execution_count": null,
   "metadata": {},
   "outputs": [],
   "source": [
    "# Hough circle\n",
    "circles = cv.HoughCircles(cannyAndColor,cv.HOUGH_GRADIENT,1,20,param1=50,param2=30,minRadius=20,maxRadius=100)\n",
    "\n",
    "print(len(circles))\n",
    "\n",
    "circles = np.uint16(np.around(circles))\n",
    "for i in circles[0,:]:\n",
    "  # draw the outer circle\n",
    "  cv.circle(RGB_img,(i[0],i[1]),i[2],(0,255,0),2)\n",
    "  # draw the center of the circle\n",
    "  cv.circle(RGB_img,(i[0],i[1]),2,(0,0,255),3)\n",
    "\n",
    "plt.imshow(RGB_img)\n",
    "plt.show()\n",
    "\n",
    "\n",
    "print(i[0],i[1],i[2])"
   ]
  },
  {
   "cell_type": "code",
   "execution_count": null,
   "metadata": {},
   "outputs": [],
   "source": [
    "# Contours\n",
    "cont_img = closing.copy()\n",
    "im2, contours, hierarchy = cv.findContours(cont_img, cv.RETR_EXTERNAL, cv.CHAIN_APPROX_SIMPLE)\n",
    "\n",
    "print(len(contours))\n",
    "\n",
    "#print(contours)\n",
    "\n",
    "for cnt in contours:\n",
    "  area = cv.contourArea(cnt)\n",
    "  #if area < 2000 or area > 4000:\n",
    "  #  continue\n",
    "  if len(cnt) < 5: \n",
    "    continue\n",
    "  ellipse = cv.fitEllipse(cnt) \n",
    "\n",
    "  #cv.ellipse(img, ellipse, (0,255,0), 2) "
   ]
  },
  {
   "cell_type": "code",
   "execution_count": null,
   "metadata": {},
   "outputs": [],
   "source": [
    "\n",
    "\n",
    "cv.imshow(\"final result\", img)\n",
    "cv.imshow(\"eroded\", closing)\n",
    "cv.imshow('image',thresh)\n",
    "cv.waitKey(0)\n",
    "cv.destroyAllWindows()"
   ]
  }
 ],
 "metadata": {
  "kernelspec": {
   "display_name": "Python 2",
   "language": "python",
   "name": "python2"
  },
  "language_info": {
   "codemirror_mode": {
    "name": "ipython",
    "version": 2
   },
   "file_extension": ".py",
   "mimetype": "text/x-python",
   "name": "python",
   "nbconvert_exporter": "python",
   "pygments_lexer": "ipython2",
   "version": "2.7.12"
  }
 },
 "nbformat": 4,
 "nbformat_minor": 2
}
